{
 "cells": [
  {
   "cell_type": "code",
   "execution_count": 63,
   "metadata": {},
   "outputs": [],
   "source": [
    "#Importing all the libraries\n",
    "\n",
    "import pandas as pd\n",
    "import numpy as np\n",
    "from sklearn.impute import SimpleImputer\n",
    "import matplotlib.pyplot as plt\n",
    "import seaborn as sns\n",
    "import math\n",
    "from sklearn import preprocessing\n",
    "from sklearn.preprocessing import MinMaxScaler, LabelEncoder\n",
    "import scipy.stats as stats\n",
    "from sklearn.pipeline import Pipeline\n",
    "from sklearn.linear_model import LinearRegression\n",
    "from mlxtend.feature_selection import SequentialFeatureSelector as sfs"
   ]
  },
  {
   "cell_type": "code",
   "execution_count": 64,
   "metadata": {},
   "outputs": [],
   "source": [
    "#Create Dataframe from a csv file and converting float columns to int\n",
    "\n",
    "house_df=pd.read_csv(\"Cumming_GA_PropertiesList.csv\")\n",
    "house_df['Year Built']=house_df['Year Built'].fillna(0).astype(np.int64)\n",
    "house_df['Zip code']=house_df['Zip code'].fillna(0).astype(np.int64)\n",
    "house_df['No.of Bedrooms']=house_df['No.of Bedrooms'].fillna(0).astype(np.int64)\n",
    "house_df['No.of Bathrooms']=house_df['No.of Bathrooms'].fillna(0).astype(np.int64)\n",
    "#Dropping Address column\n",
    "house_df=house_df.drop(['Address'],axis=1)"
   ]
  },
  {
   "cell_type": "code",
   "execution_count": 65,
   "metadata": {
    "scrolled": false
   },
   "outputs": [
    {
     "data": {
      "text/plain": [
       "Zip code              int64\n",
       "Price               float64\n",
       "No.of Bedrooms        int64\n",
       "No.of Bathrooms       int64\n",
       "Sq.ft               float64\n",
       "HouseType            object\n",
       "Basementtype         object\n",
       "Lot Size (Acres)    float64\n",
       "Year Built            int64\n",
       "dtype: object"
      ]
     },
     "execution_count": 65,
     "metadata": {},
     "output_type": "execute_result"
    }
   ],
   "source": [
    "house_df.dtypes"
   ]
  },
  {
   "cell_type": "code",
   "execution_count": 66,
   "metadata": {},
   "outputs": [],
   "source": [
    "features = ['Zip code','Price','No.of Bedrooms','No.of Bathrooms','Sq.ft','HouseType','Basementtype','Lot Size (Acres)','Year Built']"
   ]
  },
  {
   "cell_type": "code",
   "execution_count": 67,
   "metadata": {},
   "outputs": [],
   "source": [
    "continuous = ['Price','No.of Bedrooms','No.of Bathrooms','Sq.ft','Lot Size (Acres)']\n",
    "categorical =['Zip code','HouseType','Basementtype','Year Built']"
   ]
  },
  {
   "cell_type": "code",
   "execution_count": 68,
   "metadata": {},
   "outputs": [],
   "source": [
    "#Create Dataframe containing the columns in the df dataframe\n",
    "\n",
    "columns=pd.DataFrame(list(house_df.columns.values))"
   ]
  },
  {
   "cell_type": "code",
   "execution_count": 69,
   "metadata": {},
   "outputs": [],
   "source": [
    "#DataQuality Report for Continous features\n",
    "\n",
    "#Create a DataFrame of the data type of each column\n",
    "\n",
    "data_types=pd.DataFrame(house_df[continuous].dtypes,columns=['Data Type'])"
   ]
  },
  {
   "cell_type": "code",
   "execution_count": 70,
   "metadata": {},
   "outputs": [],
   "source": [
    "#Create a DataFrame with count of missing values in each column\n",
    "\n",
    "missing_data_counts=pd.DataFrame(house_df[continuous].isnull().sum(),columns=['Missing'])"
   ]
  },
  {
   "cell_type": "code",
   "execution_count": 71,
   "metadata": {},
   "outputs": [],
   "source": [
    "#Create a DataFrame with count of present values in each column\n",
    "\n",
    "present_data_counts=pd.DataFrame(house_df[continuous].count(),columns=['Count'])"
   ]
  },
  {
   "cell_type": "code",
   "execution_count": 72,
   "metadata": {},
   "outputs": [],
   "source": [
    "#Create a DataFrame with the count of unique values in each column\n",
    "\n",
    "unique_value_counts = pd.DataFrame(columns=['Cardinality'])\n",
    "for v in list(house_df[continuous].columns.values):\n",
    "    unique_value_counts.loc[v] = [house_df[v].nunique()]"
   ]
  },
  {
   "cell_type": "code",
   "execution_count": 73,
   "metadata": {},
   "outputs": [],
   "source": [
    "#Create a DataFrame with Minimum values in each column\n",
    "\n",
    "minimum_values = pd.DataFrame(columns=['Minimum'])\n",
    "for v in list(house_df[continuous].columns.values):\n",
    "    minimum_values.loc[v] = [house_df[continuous][v].min()]"
   ]
  },
  {
   "cell_type": "code",
   "execution_count": 74,
   "metadata": {},
   "outputs": [],
   "source": [
    "#Create a DataFrame with Maximum values in each column\n",
    "\n",
    "maximum_values = pd.DataFrame(columns=['Maximum'])\n",
    "for v in list(house_df[continuous].columns.values):\n",
    "    maximum_values.loc[v] = [house_df[continuous][v].max()]"
   ]
  },
  {
   "cell_type": "code",
   "execution_count": 75,
   "metadata": {},
   "outputs": [],
   "source": [
    "#Create a DataFrame with Mean values in each column\n",
    "\n",
    "mean_values=pd.DataFrame(house_df[continuous].mean(),columns=['Mean'])\n"
   ]
  },
  {
   "cell_type": "code",
   "execution_count": 76,
   "metadata": {},
   "outputs": [],
   "source": [
    "#Create a DataFrame with First quantile values in each column\n",
    "\n",
    "first_quartile = pd.DataFrame(columns=['1st Qrt.'])\n",
    "for v in list(house_df[continuous].columns.values):\n",
    "    first_quartile.loc[v] = [house_df[continuous][v].quantile(0.25)]"
   ]
  },
  {
   "cell_type": "code",
   "execution_count": 77,
   "metadata": {},
   "outputs": [],
   "source": [
    "#Create a DataFrame with Third quantile values in each column\n",
    "\n",
    "third_quartile = pd.DataFrame(columns=['3rd Qrt.'])\n",
    "for v in list(house_df[continuous].columns.values):\n",
    "    third_quartile.loc[v] = [house_df[continuous][v].quantile(0.75)]"
   ]
  },
  {
   "cell_type": "code",
   "execution_count": 78,
   "metadata": {},
   "outputs": [],
   "source": [
    "#Create a DataFrame with Median values in each column\n",
    "\n",
    "median_values=pd.DataFrame(house_df[continuous].median(),columns=['Median'])\n"
   ]
  },
  {
   "cell_type": "code",
   "execution_count": 79,
   "metadata": {},
   "outputs": [],
   "source": [
    "#Create a DataFrame with Standard deviation values in each column\n",
    "\n",
    "std_values=pd.DataFrame(house_df[continuous].std(),columns=['Standard deviation'])\n"
   ]
  },
  {
   "cell_type": "code",
   "execution_count": 80,
   "metadata": {},
   "outputs": [],
   "source": [
    "data_quality_report = data_types.join(present_data_counts).join(missing_data_counts).join(unique_value_counts).join(minimum_values).join(first_quartile).join(mean_values).join(median_values).join(third_quartile).join(maximum_values).join(std_values)"
   ]
  },
  {
   "cell_type": "code",
   "execution_count": 81,
   "metadata": {},
   "outputs": [],
   "source": [
    "#DataQuality Report for Categorical features\n",
    "\n",
    "#Create a DataFrame of the data type of each column\n",
    "\n",
    "data_types_cat=pd.DataFrame(house_df[categorical].dtypes,columns=['Data Type'])"
   ]
  },
  {
   "cell_type": "code",
   "execution_count": 82,
   "metadata": {},
   "outputs": [],
   "source": [
    "#Create a DataFrame with count of missing values in each column\n",
    "\n",
    "missing_data_counts_cat=pd.DataFrame(house_df[categorical].isnull().sum(),columns=['Missing'])\n"
   ]
  },
  {
   "cell_type": "code",
   "execution_count": 83,
   "metadata": {},
   "outputs": [],
   "source": [
    "#Create a DataFrame with count of present values in each column\n",
    "\n",
    "present_data_counts_cat=pd.DataFrame(house_df[categorical].count(),columns=['Count'])"
   ]
  },
  {
   "cell_type": "code",
   "execution_count": 84,
   "metadata": {},
   "outputs": [],
   "source": [
    "#Create a DataFrame with the count of unique values in each column\n",
    "\n",
    "unique_value_counts_cat = pd.DataFrame(columns=['Cardinality'])\n",
    "for v in list(house_df[categorical].columns.values):\n",
    "    unique_value_counts_cat.loc[v] = [house_df[v].nunique()]"
   ]
  },
  {
   "cell_type": "code",
   "execution_count": 85,
   "metadata": {},
   "outputs": [],
   "source": [
    "#Create a DataFrame with Mode value in each column\n",
    "\n",
    "mode_cat = pd.DataFrame(columns=['Mode'])\n",
    "for v in list(house_df[categorical].columns.values):\n",
    "    string = [house_df[v].mode()]\n",
    "    string_str=str(string)\n",
    "    temp = string_str.split()\n",
    "    mode_cat.loc[v] = temp[1]\n"
   ]
  },
  {
   "cell_type": "code",
   "execution_count": 86,
   "metadata": {},
   "outputs": [],
   "source": [
    "#Create a DataFrame with Mode frequency value in each column\n",
    "\n",
    "modefreq_cat = pd.DataFrame(columns=['Mode Frequency'])\n",
    "for v in list(house_df[categorical].columns.values):\n",
    "    string = [house_df[v].value_counts(ascending=False).head(1)]\n",
    "    string_str=str(string)\n",
    "    temp = string_str.split()\n",
    "    modefreq_cat.loc[v] = temp[1]"
   ]
  },
  {
   "cell_type": "code",
   "execution_count": 87,
   "metadata": {},
   "outputs": [],
   "source": [
    "#Create a DataFrame with Mode frequency percentage value in each column\n",
    "\n",
    "modeper_cat = pd.DataFrame(columns=['Mode Percentage'])\n",
    "for v in list(house_df[categorical].columns.values):\n",
    "    string = [house_df[v].value_counts(ascending=False).head(1)]\n",
    "    string_str=str(string)\n",
    "    temp = string_str.split()\n",
    "    modeper_cat.loc[v] = round(((int(temp[1])/house_df[v].size)*100),2)"
   ]
  },
  {
   "cell_type": "code",
   "execution_count": 88,
   "metadata": {},
   "outputs": [],
   "source": [
    "data_quality_report_categorical=data_types_cat.join(present_data_counts_cat).join(missing_data_counts_cat).join(unique_value_counts_cat).join(mode_cat).join(modefreq_cat).join(modeper_cat)"
   ]
  },
  {
   "cell_type": "code",
   "execution_count": 89,
   "metadata": {},
   "outputs": [],
   "source": [
    "#Create Dataframe with Features and Missing values %\n",
    "\n",
    "dataqualitymiss=pd.DataFrame(round(((house_df.isnull().sum()/house_df.count())*100),2),columns=['Data Quality Issue (Missing Values %)'])"
   ]
  },
  {
   "cell_type": "code",
   "execution_count": 90,
   "metadata": {},
   "outputs": [],
   "source": [
    "#Create Dataframe with potential strategy handling for missing values\n",
    "\n",
    "dataqualitymiss['Potential Handling Strategies']='Knn Imputation'\n",
    "dataqualitymiss=dataqualitymiss.drop(dataqualitymiss[(dataqualitymiss['Data Quality Issue (Missing Values %)']==0.00)].index)"
   ]
  },
  {
   "cell_type": "code",
   "execution_count": 91,
   "metadata": {},
   "outputs": [],
   "source": [
    "#Outlier % for Price feature\n",
    "totalrows=len(house_df)\n",
    "Q1 = house_df['Price'].quantile(0.25)\n",
    "Q3 = house_df['Price'].quantile(0.75)\n",
    "IQR = Q3 - Q1\n",
    "lower=Q1-(1.5*IQR)\n",
    "upper=Q3+(1.5*IQR)\n",
    "house_dfprice = house_df[~((house_df['Price'] < lower) |(house_df['Price'] > upper))]\n",
    "priceoutpercentage=((totalrows-len(house_dfprice))/totalrows)*100"
   ]
  },
  {
   "cell_type": "code",
   "execution_count": 92,
   "metadata": {},
   "outputs": [],
   "source": [
    "#Outlier % for Lot Size (Acres)\n",
    "Q1 = house_df['Lot Size (Acres)'].quantile(0.25)\n",
    "Q3 = house_df['Lot Size (Acres)'].quantile(0.75)\n",
    "IQR = Q3 - Q1\n",
    "lower=Q1-(1.5*IQR)\n",
    "upper=Q3+(1.5*IQR)\n",
    "house_dflot = house_df[~((house_df['Lot Size (Acres)'] < lower) |(house_df['Lot Size (Acres)'] > upper))]\n",
    "lotoutpercentage=((totalrows-len(house_dflot))/totalrows)*100"
   ]
  },
  {
   "cell_type": "code",
   "execution_count": 93,
   "metadata": {},
   "outputs": [],
   "source": [
    "#Outlier % for No.of Bathrooms\n",
    "Q1 = house_df['No.of Bathrooms'].quantile(0.25)\n",
    "Q3 = house_df['No.of Bathrooms'].quantile(0.75)\n",
    "IQR = Q3 - Q1\n",
    "lower=Q1-(1.5*IQR)\n",
    "upper=Q3+(1.5*IQR)\n",
    "house_dfbath = house_df[~((house_df['No.of Bathrooms'] < lower) |(house_df['No.of Bathrooms'] > upper))]\n",
    "bathoutpercentage=((totalrows-len(house_dfbath))/totalrows)*100"
   ]
  },
  {
   "cell_type": "code",
   "execution_count": 94,
   "metadata": {},
   "outputs": [],
   "source": [
    "#Outlier % for Sq.ft\n",
    "Q1 = house_df['Sq.ft'].quantile(0.25)\n",
    "Q3 = house_df['Sq.ft'].quantile(0.75)\n",
    "IQR = Q3 - Q1\n",
    "lower=Q1-(1.5*IQR)\n",
    "upper=Q3+(1.5*IQR)\n",
    "house_dfsqft = house_df[~((house_df['Sq.ft'] < lower) |(house_df['Sq.ft'] > upper))]\n",
    "sqftoutpercentage=((totalrows-len(house_dfsqft))/totalrows)*100"
   ]
  },
  {
   "cell_type": "code",
   "execution_count": 95,
   "metadata": {},
   "outputs": [],
   "source": [
    "#Outlier % for Year Built\n",
    "Q1 = house_df['Year Built'].quantile(0.25)\n",
    "Q3 = house_df['Year Built'].quantile(0.75)\n",
    "IQR = Q3 - Q1\n",
    "lower=Q1-(1.5*IQR)\n",
    "upper=Q3+(1.5*IQR)\n",
    "house_dfyear = house_df[~((house_df['Year Built'] < lower) |(house_df['Year Built'] > upper))]\n",
    "yearoutpercentage=((totalrows-len(house_dfyear))/totalrows)*100"
   ]
  },
  {
   "cell_type": "code",
   "execution_count": 96,
   "metadata": {},
   "outputs": [],
   "source": [
    "#Create Dataframe with Features and Outliers %\n",
    "\n",
    "dataqualityout=pd.DataFrame(columns=['Features','Outliers %','Potential Handling Strategies'])\n",
    "dataqualityout['Features']=['Price','No.of Bathrooms','Sq.ft','Lot Size (Acres)','Year Built']\n",
    "dataqualityout['Outliers %']=[priceoutpercentage,bathoutpercentage,sqftoutpercentage,lotoutpercentage,yearoutpercentage]\n",
    "dataqualityout['Potential Handling Strategies']='IQR Method'"
   ]
  },
  {
   "cell_type": "code",
   "execution_count": 97,
   "metadata": {},
   "outputs": [
    {
     "data": {
      "text/html": [
       "<div>\n",
       "<style scoped>\n",
       "    .dataframe tbody tr th:only-of-type {\n",
       "        vertical-align: middle;\n",
       "    }\n",
       "\n",
       "    .dataframe tbody tr th {\n",
       "        vertical-align: top;\n",
       "    }\n",
       "\n",
       "    .dataframe thead th {\n",
       "        text-align: right;\n",
       "    }\n",
       "</style>\n",
       "<table border=\"1\" class=\"dataframe\">\n",
       "  <thead>\n",
       "    <tr style=\"text-align: right;\">\n",
       "      <th></th>\n",
       "      <th>Zip code</th>\n",
       "      <th>Price</th>\n",
       "      <th>No.of Bedrooms</th>\n",
       "      <th>No.of Bathrooms</th>\n",
       "      <th>Sq.ft</th>\n",
       "      <th>HouseType</th>\n",
       "      <th>Basementtype</th>\n",
       "      <th>Lot Size (Acres)</th>\n",
       "      <th>Year Built</th>\n",
       "    </tr>\n",
       "  </thead>\n",
       "  <tbody>\n",
       "    <tr>\n",
       "      <th>0</th>\n",
       "      <td>30041</td>\n",
       "      <td>650000.0</td>\n",
       "      <td>3</td>\n",
       "      <td>4</td>\n",
       "      <td>2700.0</td>\n",
       "      <td>Basement</td>\n",
       "      <td>Finished</td>\n",
       "      <td>0.75</td>\n",
       "      <td>1981</td>\n",
       "    </tr>\n",
       "    <tr>\n",
       "      <th>1</th>\n",
       "      <td>30040</td>\n",
       "      <td>389000.0</td>\n",
       "      <td>5</td>\n",
       "      <td>4</td>\n",
       "      <td>3150.0</td>\n",
       "      <td>No Basement</td>\n",
       "      <td>Slab</td>\n",
       "      <td>0.41</td>\n",
       "      <td>2006</td>\n",
       "    </tr>\n",
       "    <tr>\n",
       "      <th>2</th>\n",
       "      <td>30040</td>\n",
       "      <td>412000.0</td>\n",
       "      <td>5</td>\n",
       "      <td>4</td>\n",
       "      <td>3280.0</td>\n",
       "      <td>Basement</td>\n",
       "      <td>Finished</td>\n",
       "      <td>0.40</td>\n",
       "      <td>2015</td>\n",
       "    </tr>\n",
       "    <tr>\n",
       "      <th>3</th>\n",
       "      <td>30040</td>\n",
       "      <td>430000.0</td>\n",
       "      <td>4</td>\n",
       "      <td>3</td>\n",
       "      <td>3284.0</td>\n",
       "      <td>Basement</td>\n",
       "      <td>Unfinished</td>\n",
       "      <td>0.27</td>\n",
       "      <td>2015</td>\n",
       "    </tr>\n",
       "    <tr>\n",
       "      <th>4</th>\n",
       "      <td>30040</td>\n",
       "      <td>444900.0</td>\n",
       "      <td>3</td>\n",
       "      <td>3</td>\n",
       "      <td>2000.0</td>\n",
       "      <td>No Basement</td>\n",
       "      <td>Slab</td>\n",
       "      <td>0.12</td>\n",
       "      <td>2020</td>\n",
       "    </tr>\n",
       "    <tr>\n",
       "      <th>5</th>\n",
       "      <td>30041</td>\n",
       "      <td>340000.0</td>\n",
       "      <td>5</td>\n",
       "      <td>3</td>\n",
       "      <td>3706.0</td>\n",
       "      <td>Basement</td>\n",
       "      <td>Finished</td>\n",
       "      <td>0.50</td>\n",
       "      <td>2001</td>\n",
       "    </tr>\n",
       "    <tr>\n",
       "      <th>6</th>\n",
       "      <td>30041</td>\n",
       "      <td>348000.0</td>\n",
       "      <td>5</td>\n",
       "      <td>4</td>\n",
       "      <td>3097.0</td>\n",
       "      <td>Basement</td>\n",
       "      <td>Finished</td>\n",
       "      <td>0.21</td>\n",
       "      <td>2006</td>\n",
       "    </tr>\n",
       "    <tr>\n",
       "      <th>7</th>\n",
       "      <td>30040</td>\n",
       "      <td>324095.0</td>\n",
       "      <td>4</td>\n",
       "      <td>3</td>\n",
       "      <td>2848.0</td>\n",
       "      <td>No Basement</td>\n",
       "      <td>Slab</td>\n",
       "      <td>0.78</td>\n",
       "      <td>1989</td>\n",
       "    </tr>\n",
       "    <tr>\n",
       "      <th>8</th>\n",
       "      <td>30028</td>\n",
       "      <td>349450.0</td>\n",
       "      <td>5</td>\n",
       "      <td>4</td>\n",
       "      <td>3220.0</td>\n",
       "      <td>No Basement</td>\n",
       "      <td>Slab</td>\n",
       "      <td>0.27</td>\n",
       "      <td>2018</td>\n",
       "    </tr>\n",
       "    <tr>\n",
       "      <th>9</th>\n",
       "      <td>30040</td>\n",
       "      <td>320000.0</td>\n",
       "      <td>4</td>\n",
       "      <td>3</td>\n",
       "      <td>3265.0</td>\n",
       "      <td>No Basement</td>\n",
       "      <td>Slab</td>\n",
       "      <td>0.22</td>\n",
       "      <td>2011</td>\n",
       "    </tr>\n",
       "  </tbody>\n",
       "</table>\n",
       "</div>"
      ],
      "text/plain": [
       "   Zip code     Price  No.of Bedrooms  No.of Bathrooms   Sq.ft    HouseType  \\\n",
       "0     30041  650000.0               3                4  2700.0     Basement   \n",
       "1     30040  389000.0               5                4  3150.0  No Basement   \n",
       "2     30040  412000.0               5                4  3280.0     Basement   \n",
       "3     30040  430000.0               4                3  3284.0     Basement   \n",
       "4     30040  444900.0               3                3  2000.0  No Basement   \n",
       "5     30041  340000.0               5                3  3706.0     Basement   \n",
       "6     30041  348000.0               5                4  3097.0     Basement   \n",
       "7     30040  324095.0               4                3  2848.0  No Basement   \n",
       "8     30028  349450.0               5                4  3220.0  No Basement   \n",
       "9     30040  320000.0               4                3  3265.0  No Basement   \n",
       "\n",
       "  Basementtype  Lot Size (Acres)  Year Built  \n",
       "0     Finished              0.75        1981  \n",
       "1         Slab              0.41        2006  \n",
       "2     Finished              0.40        2015  \n",
       "3   Unfinished              0.27        2015  \n",
       "4         Slab              0.12        2020  \n",
       "5     Finished              0.50        2001  \n",
       "6     Finished              0.21        2006  \n",
       "7         Slab              0.78        1989  \n",
       "8         Slab              0.27        2018  \n",
       "9         Slab              0.22        2011  "
      ]
     },
     "execution_count": 97,
     "metadata": {},
     "output_type": "execute_result"
    }
   ],
   "source": [
    "#To show the sample data\n",
    "house_df.head(10)"
   ]
  },
  {
   "cell_type": "code",
   "execution_count": 98,
   "metadata": {},
   "outputs": [
    {
     "data": {
      "text/plain": [
       "<matplotlib.axes._subplots.AxesSubplot at 0x1a26f04eb8>"
      ]
     },
     "execution_count": 98,
     "metadata": {},
     "output_type": "execute_result"
    },
    {
     "data": {
      "image/png": "[encoded data removed]",
      "text/plain": [
       "<Figure size 432x288 with 1 Axes>"
      ]
     },
     "metadata": {
      "needs_background": "light"
     },
     "output_type": "display_data"
    }
   ],
   "source": [
    "#Visualization of Missing values in the dataset\n",
    "\n",
    "missing = house_df.isnull().sum()\n",
    "missing = missing[missing > 0]\n",
    "missing.sort_values(inplace=True)\n",
    "missing.plot.bar(color='g')"
   ]
  },
  {
   "cell_type": "code",
   "execution_count": 100,
   "metadata": {},
   "outputs": [
    {
     "data": {
      "text/plain": [
       "array([<matplotlib.axes._subplots.AxesSubplot object at 0x1a257a9a90>,\n",
       "       <matplotlib.axes._subplots.AxesSubplot object at 0x1a26e68390>,\n",
       "       <matplotlib.axes._subplots.AxesSubplot object at 0x1a26e256a0>,\n",
       "       <matplotlib.axes._subplots.AxesSubplot object at 0x1a26979128>,\n",
       "       <matplotlib.axes._subplots.AxesSubplot object at 0x1a26ba8978>],\n",
       "      dtype=object)"
      ]
     },
     "execution_count": 100,
     "metadata": {},
     "output_type": "execute_result"
    },
    {
     "data": {
      "image/png": "[encoded data removed]",
      "text/plain": [
       "<Figure size 1296x432 with 5 Axes>"
      ]
     },
     "metadata": {
      "needs_background": "light"
     },
     "output_type": "display_data"
    }
   ],
   "source": [
    "# For numerical attributes\n",
    "\n",
    "fig, ax=plt.subplots(1,5,figsize=(18,6))\n",
    "adf_for_hist=house_df[continuous]\n",
    "adf_for_hist.hist(bins=15, alpha=0.5, ax=ax)\n"
   ]
  },
  {
   "cell_type": "code",
   "execution_count": 101,
   "metadata": {},
   "outputs": [
    {
     "data": {
      "image/png": "[encoded data removed]",
      "text/plain": [
       "<Figure size 432x288 with 1 Axes>"
      ]
     },
     "metadata": {
      "needs_background": "light"
     },
     "output_type": "display_data"
    },
    {
     "data": {
      "image/png": "[encoded data removed]",
      "text/plain": [
       "<Figure size 432x288 with 1 Axes>"
      ]
     },
     "metadata": {
      "needs_background": "light"
     },
     "output_type": "display_data"
    },
    {
     "data": {
      "image/png": "[encoded data removed]",
      "text/plain": [
       "<Figure size 432x288 with 1 Axes>"
      ]
     },
     "metadata": {
      "needs_background": "light"
     },
     "output_type": "display_data"
    },
    {
     "data": {
      "image/png": "[encoded data removed]",
      "text/plain": [
       "<Figure size 432x288 with 1 Axes>"
      ]
     },
     "metadata": {
      "needs_background": "light"
     },
     "output_type": "display_data"
    }
   ],
   "source": [
    "#For Categorical Features\n",
    "sns.countplot(house_df['Zip code']);\n",
    "plt.title('Zip code');\n",
    "plt.show();\n",
    "\n",
    "sns.countplot(house_df['HouseType']);\n",
    "plt.title('House Type')\n",
    "plt.show();\n",
    "\n",
    "plt.title('Basement type');\n",
    "sns.countplot(house_df['Basementtype']);\n",
    "plt.show();\n",
    "\n",
    "sns.countplot(house_df['Year Built']);\n",
    "plt.title('Year Built')\n",
    "plt.show();"
   ]
  },
  {
   "cell_type": "code",
   "execution_count": 102,
   "metadata": {},
   "outputs": [
    {
     "data": {
      "text/plain": [
       "<matplotlib.collections.PathCollection at 0x1a26dfab70>"
      ]
     },
     "execution_count": 102,
     "metadata": {},
     "output_type": "execute_result"
    },
    {
     "data": {
      "image/png": "[encoded data removed]",
      "text/plain": [
       "<Figure size 432x288 with 1 Axes>"
      ]
     },
     "metadata": {
      "needs_background": "light"
     },
     "output_type": "display_data"
    }
   ],
   "source": [
    "#Identify Which area is Expensive?\n",
    "\n",
    "plt.scatter(house_df['Zip code'],house_df['Price'])"
   ]
  },
  {
   "cell_type": "code",
   "execution_count": 103,
   "metadata": {},
   "outputs": [
    {
     "data": {
      "text/plain": [
       "<matplotlib.collections.PathCollection at 0x1a26e73ac8>"
      ]
     },
     "execution_count": 103,
     "metadata": {},
     "output_type": "execute_result"
    },
    {
     "data": {
      "image/png": "[encoded data removed]",
      "text/plain": [
       "<Figure size 432x288 with 1 Axes>"
      ]
     },
     "metadata": {
      "needs_background": "light"
     },
     "output_type": "display_data"
    }
   ],
   "source": [
    "#Identify relationship between count of bedrooms and Price\n",
    "\n",
    "plt.scatter(house_df['No.of Bedrooms'],house_df['Price'])"
   ]
  },
  {
   "cell_type": "code",
   "execution_count": 104,
   "metadata": {},
   "outputs": [
    {
     "name": "stdout",
     "output_type": "stream",
     "text": [
      "The count of instances before removing outliers\n",
      "(387, 9)\n",
      "The count of instances after removing outliers\n",
      "(268, 9)\n"
     ]
    }
   ],
   "source": [
    "#Identify Outliers and remove them using InterQuartile Method\n",
    "\n",
    "print(\"The count of instances before removing outliers\")\n",
    "print(house_df.shape)\n",
    "\n",
    "#Finding the outlier\n",
    "\n",
    "Q1 = house_df.quantile(0.25)\n",
    "Q3 = house_df.quantile(0.75)\n",
    "IQR = Q3 - Q1\n",
    "\n",
    "#Identifying lower and upper bound outliers for attributes\n",
    "\n",
    "Lower_Fence = Q1 - (1.5 * IQR)\n",
    "\n",
    "Upper_Fence = Q3 + (1.5 * IQR)\n",
    "\n",
    "#Removing the outlier\n",
    "\n",
    "house_dfout = house_df[~((house_df < (Q1 - 1.5 * IQR)) |(house_df > (Q3 + 1.5 * IQR))).any(axis=1)]\n",
    "\n",
    "#print the shape after removing outliers\n",
    "print(\"The count of instances after removing outliers\")\n",
    "print(house_dfout.shape)"
   ]
  },
  {
   "cell_type": "code",
   "execution_count": 105,
   "metadata": {},
   "outputs": [
    {
     "name": "stdout",
     "output_type": "stream",
     "text": [
      "ANALYZING THE COLUMN: Zip code\n",
      "\tTotal number of records 268\n",
      "\tNumber of missing values 0\n",
      "\tPercentage of missing values0.0%\n",
      "\tNumber of unique values 2\n",
      "ANALYZING THE COLUMN: Price\n",
      "\tTotal number of records 268\n",
      "\tNumber of missing values 0\n",
      "\tPercentage of missing values0.0%\n",
      "\tNumber of unique values 196\n",
      "ANALYZING THE COLUMN: No.of Bedrooms\n",
      "\tTotal number of records 268\n",
      "\tNumber of missing values 0\n",
      "\tPercentage of missing values0.0%\n",
      "\tNumber of unique values 6\n",
      "ANALYZING THE COLUMN: No.of Bathrooms\n",
      "\tTotal number of records 268\n",
      "\tNumber of missing values 0\n",
      "\tPercentage of missing values0.0%\n",
      "\tNumber of unique values 4\n",
      "ANALYZING THE COLUMN: Sq.ft\n",
      "\tTotal number of records 268\n",
      "\tNumber of missing values 1\n",
      "\tPercentage of missing values0.3731343283582089%\n",
      "\tNumber of unique values 250\n",
      "ANALYZING THE COLUMN: HouseType\n",
      "\tTotal number of records 268\n",
      "\tNumber of missing values 20\n",
      "\tPercentage of missing values7.462686567164178%\n",
      "\tNumber of unique values 5\n",
      "ANALYZING THE COLUMN: Basementtype\n",
      "\tTotal number of records 268\n",
      "\tNumber of missing values 41\n",
      "\tPercentage of missing values15.298507462686567%\n",
      "\tNumber of unique values 5\n",
      "ANALYZING THE COLUMN: Lot Size (Acres)\n",
      "\tTotal number of records 268\n",
      "\tNumber of missing values 19\n",
      "\tPercentage of missing values7.08955223880597%\n",
      "\tNumber of unique values 69\n",
      "ANALYZING THE COLUMN: Year Built\n",
      "\tTotal number of records 268\n",
      "\tNumber of missing values 0\n",
      "\tPercentage of missing values0.0%\n",
      "\tNumber of unique values 38\n"
     ]
    },
    {
     "name": "stderr",
     "output_type": "stream",
     "text": [
      "//anaconda3/lib/python3.7/site-packages/pandas/core/generic.py:6586: SettingWithCopyWarning: \n",
      "A value is trying to be set on a copy of a slice from a DataFrame\n",
      "\n",
      "See the caveats in the documentation: http://pandas.pydata.org/pandas-docs/stable/indexing.html#indexing-view-versus-copy\n",
      "  self._update_inplace(new_data)\n"
     ]
    }
   ],
   "source": [
    "#Identifying Missing Values and Unique values for all the features\n",
    "house_dfout['Year Built'].replace(0, np.nan, inplace= True)\n",
    "for (name, series) in house_dfout.iteritems():\n",
    "    print('ANALYZING THE COLUMN:', name)\n",
    "    print('\\tTotal number of records', series.size)\n",
    "    print('\\tNumber of missing values', series.isnull().sum())\n",
    "    print('\\tPercentage of missing values{0}%'.format(((series.isnull().sum()/series.size)*100)))\n",
    "    print('\\tNumber of unique values', series.unique().size)"
   ]
  },
  {
   "cell_type": "code",
   "execution_count": 106,
   "metadata": {},
   "outputs": [],
   "source": [
    "#Handling Missing Values here\n",
    "#Imputation using Simple Imputation\n",
    "\n",
    "imp_mean = SimpleImputer(strategy='most_frequent')\n",
    "imp_mean.fit(house_dfout)\n",
    "imputed_train_df = imp_mean.transform(house_dfout)\n",
    "\n",
    "imputeddf=pd.DataFrame(imputed_train_df)\n",
    "imputeddf.columns=['Zipcode','Price','No_of_Bedrooms','No_of_Bathrooms','Sq_ft','HouseType','Basementtype','Lot_Size(Acres)','Year_Built']\n",
    "\n",
    "imputeddf['Year_Built']=imputeddf['Year_Built'].astype(np.int64)"
   ]
  },
  {
   "cell_type": "code",
   "execution_count": 107,
   "metadata": {},
   "outputs": [
    {
     "name": "stdout",
     "output_type": "stream",
     "text": [
      "ANALYZING THE COLUMN: Zipcode\n",
      "\tTotal number of records 268\n",
      "\tNumber of missing values 0\n",
      "\tPercentage of missing values0.0%\n",
      "\tNumber of unique values 2\n",
      "ANALYZING THE COLUMN: Price\n",
      "\tTotal number of records 268\n",
      "\tNumber of missing values 0\n",
      "\tPercentage of missing values0.0%\n",
      "\tNumber of unique values 196\n",
      "ANALYZING THE COLUMN: No_of_Bedrooms\n",
      "\tTotal number of records 268\n",
      "\tNumber of missing values 0\n",
      "\tPercentage of missing values0.0%\n",
      "\tNumber of unique values 6\n",
      "ANALYZING THE COLUMN: No_of_Bathrooms\n",
      "\tTotal number of records 268\n",
      "\tNumber of missing values 0\n",
      "\tPercentage of missing values0.0%\n",
      "\tNumber of unique values 4\n",
      "ANALYZING THE COLUMN: Sq_ft\n",
      "\tTotal number of records 268\n",
      "\tNumber of missing values 0\n",
      "\tPercentage of missing values0.0%\n",
      "\tNumber of unique values 249\n",
      "ANALYZING THE COLUMN: HouseType\n",
      "\tTotal number of records 268\n",
      "\tNumber of missing values 0\n",
      "\tPercentage of missing values0.0%\n",
      "\tNumber of unique values 4\n",
      "ANALYZING THE COLUMN: Basementtype\n",
      "\tTotal number of records 268\n",
      "\tNumber of missing values 0\n",
      "\tPercentage of missing values0.0%\n",
      "\tNumber of unique values 4\n",
      "ANALYZING THE COLUMN: Lot_Size(Acres)\n",
      "\tTotal number of records 268\n",
      "\tNumber of missing values 0\n",
      "\tPercentage of missing values0.0%\n",
      "\tNumber of unique values 68\n",
      "ANALYZING THE COLUMN: Year_Built\n",
      "\tTotal number of records 268\n",
      "\tNumber of missing values 0\n",
      "\tPercentage of missing values0.0%\n",
      "\tNumber of unique values 38\n"
     ]
    }
   ],
   "source": [
    "# To check if the missing values are imputed\n",
    "for (name, series) in imputeddf.iteritems():\n",
    "    print('ANALYZING THE COLUMN:', name)\n",
    "    print('\\tTotal number of records', series.size)\n",
    "    print('\\tNumber of missing values', series.isnull().sum())\n",
    "    print('\\tPercentage of missing values{0}%'.format(((series.isnull().sum()/series.size)*100)))\n",
    "    print('\\tNumber of unique values', series.unique().size)"
   ]
  },
  {
   "cell_type": "code",
   "execution_count": 108,
   "metadata": {},
   "outputs": [
    {
     "name": "stderr",
     "output_type": "stream",
     "text": [
      "//anaconda3/lib/python3.7/site-packages/numpy/lib/histograms.py:829: RuntimeWarning: invalid value encountered in greater_equal\n",
      "  keep = (tmp_a >= first_edge)\n",
      "//anaconda3/lib/python3.7/site-packages/numpy/lib/histograms.py:830: RuntimeWarning: invalid value encountered in less_equal\n",
      "  keep &= (tmp_a <= last_edge)\n"
     ]
    },
    {
     "data": {
      "image/png": "[encoded data removed]",
      "text/plain": [
       "<Figure size 1260x1260 with 56 Axes>"
      ]
     },
     "metadata": {
      "needs_background": "light"
     },
     "output_type": "display_data"
    }
   ],
   "source": [
    "#Visualization of features in the dataset\n",
    "\n",
    "sns.pairplot(house_df)\n",
    "plt.show();"
   ]
  },
  {
   "cell_type": "code",
   "execution_count": 109,
   "metadata": {},
   "outputs": [
    {
     "data": {
      "text/plain": [
       "<matplotlib.axes._subplots.AxesSubplot at 0x1a261d13c8>"
      ]
     },
     "execution_count": 109,
     "metadata": {},
     "output_type": "execute_result"
    },
    {
     "data": {
      "image/png": "[encoded data removed]",
      "text/plain": [
       "<Figure size 432x288 with 1 Axes>"
      ]
     },
     "metadata": {
      "needs_background": "light"
     },
     "output_type": "display_data"
    }
   ],
   "source": [
    "#Visualization of features using plot before Outliers and Missing values\n",
    "house_df.plot() "
   ]
  },
  {
   "cell_type": "code",
   "execution_count": 110,
   "metadata": {},
   "outputs": [
    {
     "data": {
      "text/plain": [
       "<matplotlib.axes._subplots.AxesSubplot at 0x1a262009e8>"
      ]
     },
     "execution_count": 110,
     "metadata": {},
     "output_type": "execute_result"
    },
    {
     "data": {
      "image/png": "[encoded data removed]",
      "text/plain": [
       "<Figure size 432x288 with 2 Axes>"
      ]
     },
     "metadata": {
      "needs_background": "light"
     },
     "output_type": "display_data"
    }
   ],
   "source": [
    "#Visualization of Correlation Matrix\n",
    "sns.heatmap(house_df.corr(),annot=True,cmap='coolwarm',center=0)"
   ]
  },
  {
   "cell_type": "code",
   "execution_count": 111,
   "metadata": {},
   "outputs": [],
   "source": [
    "#Converting Price type to float to fit into transformations\n",
    "imputeddf['Price'] = imputeddf['Price'].astype(float)"
   ]
  },
  {
   "cell_type": "code",
   "execution_count": 112,
   "metadata": {},
   "outputs": [
    {
     "data": {
      "text/plain": [
       "<matplotlib.axes._subplots.AxesSubplot at 0x1a2724d400>"
      ]
     },
     "execution_count": 112,
     "metadata": {},
     "output_type": "execute_result"
    },
    {
     "data": {
      "image/png": "[encoded data removed]",
      "text/plain": [
       "<Figure size 432x288 with 1 Axes>"
      ]
     },
     "metadata": {
      "needs_background": "light"
     },
     "output_type": "display_data"
    }
   ],
   "source": [
    "#Visualization of features after removing outliers and missing values\n",
    "imputeddf.plot()"
   ]
  },
  {
   "cell_type": "code",
   "execution_count": 113,
   "metadata": {},
   "outputs": [],
   "source": [
    "#Data transformation (Normalization)\n",
    "\n",
    "#Change string values to numerical using label encoder \n",
    "#Need to do this for fit\n",
    "\n",
    "le = preprocessing.LabelEncoder()\n",
    "le.fit(imputeddf['HouseType'])\n",
    "imputeddf['HouseType']=le.transform(imputeddf['HouseType'])\n",
    "\n",
    "le.fit(imputeddf['Basementtype'])\n",
    "imputeddf['Basementtype']=le.transform(imputeddf['Basementtype'])\n"
   ]
  },
  {
   "cell_type": "code",
   "execution_count": 114,
   "metadata": {},
   "outputs": [
    {
     "name": "stdout",
     "output_type": "stream",
     "text": [
      "Values after Normalization\n"
     ]
    },
    {
     "data": {
      "text/plain": [
       "array([[1.        , 0.2       , 0.66666667, ..., 0.        , 0.6952381 ,\n",
       "        0.1875    ],\n",
       "       [0.        , 0.6       , 0.66666667, ..., 0.66666667, 0.37142857,\n",
       "        0.70833333],\n",
       "       [0.        , 0.6       , 0.66666667, ..., 0.        , 0.36190476,\n",
       "        0.89583333],\n",
       "       ...,\n",
       "       [0.        , 0.6       , 0.66666667, ..., 1.        , 0.12380952,\n",
       "        0.875     ],\n",
       "       [0.        , 0.6       , 0.66666667, ..., 0.        , 0.41904762,\n",
       "        0.54166667],\n",
       "       [1.        , 0.6       , 0.66666667, ..., 0.66666667, 0.12380952,\n",
       "        0.9375    ]])"
      ]
     },
     "execution_count": 114,
     "metadata": {},
     "output_type": "execute_result"
    }
   ],
   "source": [
    "#Normalization\n",
    "\n",
    "independent_variables=imputeddf.columns\n",
    "independent_variables=independent_variables.delete(1)\n",
    "X=imputeddf[independent_variables]\n",
    "Y=imputeddf['Price']\n",
    "\n",
    "scaler = MinMaxScaler()\n",
    "Xnorm = scaler.fit_transform(X)\n",
    "print(\"Values after Normalization\")\n",
    "Xnorm"
   ]
  },
  {
   "cell_type": "code",
   "execution_count": 115,
   "metadata": {},
   "outputs": [],
   "source": [
    "#Create dataframe with normalized data\n",
    "\n",
    "data=pd.DataFrame(Xnorm)\n",
    "data.columns=independent_variables"
   ]
  },
  {
   "cell_type": "code",
   "execution_count": 116,
   "metadata": {},
   "outputs": [],
   "source": [
    "#log transform target variable to fit into transformations\n",
    "\n",
    "Y = np.log2(imputeddf['Price'])"
   ]
  },
  {
   "cell_type": "code",
   "execution_count": 117,
   "metadata": {},
   "outputs": [
    {
     "data": {
      "text/plain": [
       "<matplotlib.axes._subplots.AxesSubplot at 0x1a2748e630>"
      ]
     },
     "execution_count": 117,
     "metadata": {},
     "output_type": "execute_result"
    },
    {
     "data": {
      "image/png": "[encoded data removed]",
      "text/plain": [
       "<Figure size 432x288 with 2 Axes>"
      ]
     },
     "metadata": {
      "needs_background": "light"
     },
     "output_type": "display_data"
    }
   ],
   "source": [
    "#Feature Selection (Correlation Co-efficient Scores) - Filter Method\n",
    "\n",
    "corr=data.corr()\n",
    "sns.heatmap(corr)"
   ]
  },
  {
   "cell_type": "code",
   "execution_count": 118,
   "metadata": {},
   "outputs": [],
   "source": [
    "#Performing feature selection using Correlation scores method\n",
    "columns = np.full((corr.shape[0],), True, dtype=bool)\n",
    "for i in range(corr.shape[0]):\n",
    "    for j in range(i+1, corr.shape[0]):\n",
    "        if corr.iloc[i,j] >= 0.9:\n",
    "            if columns[j]:\n",
    "                columns[j] = False\n",
    "selected_columns = data.columns[columns]\n",
    "data = data[selected_columns]"
   ]
  },
  {
   "cell_type": "code",
   "execution_count": 119,
   "metadata": {},
   "outputs": [
    {
     "data": {
      "text/plain": [
       "Index(['Zipcode', 'No_of_Bedrooms', 'No_of_Bathrooms', 'Sq_ft', 'HouseType',\n",
       "       'Basementtype', 'Lot_Size(Acres)', 'Year_Built'],\n",
       "      dtype='object')"
      ]
     },
     "execution_count": 119,
     "metadata": {},
     "output_type": "execute_result"
    }
   ],
   "source": [
    "selected_columns #Which means no features exceeded 0.9 correlation value"
   ]
  },
  {
   "cell_type": "code",
   "execution_count": 120,
   "metadata": {},
   "outputs": [
    {
     "name": "stderr",
     "output_type": "stream",
     "text": [
      "[Parallel(n_jobs=1)]: Using backend SequentialBackend with 1 concurrent workers.\n",
      "[Parallel(n_jobs=1)]: Done   1 out of   1 | elapsed:    0.0s remaining:    0.0s\n",
      "[Parallel(n_jobs=1)]: Done   8 out of   8 | elapsed:    0.1s finished\n",
      "\n",
      "[2020-04-26 21:53:42] Features: 1/7 -- score: 0.5574868654744569[Parallel(n_jobs=1)]: Using backend SequentialBackend with 1 concurrent workers.\n",
      "[Parallel(n_jobs=1)]: Done   1 out of   1 | elapsed:    0.0s remaining:    0.0s\n",
      "[Parallel(n_jobs=1)]: Done   7 out of   7 | elapsed:    0.0s finished\n",
      "\n",
      "[2020-04-26 21:53:42] Features: 2/7 -- score: 0.5676532947859163[Parallel(n_jobs=1)]: Using backend SequentialBackend with 1 concurrent workers.\n",
      "[Parallel(n_jobs=1)]: Done   1 out of   1 | elapsed:    0.0s remaining:    0.0s\n",
      "[Parallel(n_jobs=1)]: Done   6 out of   6 | elapsed:    0.0s finished\n",
      "\n",
      "[2020-04-26 21:53:42] Features: 3/7 -- score: 0.5791930778356562[Parallel(n_jobs=1)]: Using backend SequentialBackend with 1 concurrent workers.\n",
      "[Parallel(n_jobs=1)]: Done   1 out of   1 | elapsed:    0.0s remaining:    0.0s\n",
      "[Parallel(n_jobs=1)]: Done   5 out of   5 | elapsed:    0.0s finished\n",
      "\n",
      "[2020-04-26 21:53:42] Features: 4/7 -- score: 0.5797291209909947[Parallel(n_jobs=1)]: Using backend SequentialBackend with 1 concurrent workers.\n",
      "[Parallel(n_jobs=1)]: Done   1 out of   1 | elapsed:    0.0s remaining:    0.0s\n",
      "[Parallel(n_jobs=1)]: Done   4 out of   4 | elapsed:    0.0s finished\n",
      "\n",
      "[2020-04-26 21:53:42] Features: 5/7 -- score: 0.5812008334120469[Parallel(n_jobs=1)]: Using backend SequentialBackend with 1 concurrent workers.\n",
      "[Parallel(n_jobs=1)]: Done   1 out of   1 | elapsed:    0.0s remaining:    0.0s\n",
      "[Parallel(n_jobs=1)]: Done   3 out of   3 | elapsed:    0.0s finished\n",
      "\n",
      "[2020-04-26 21:53:42] Features: 6/7 -- score: 0.5824324165731443[Parallel(n_jobs=1)]: Using backend SequentialBackend with 1 concurrent workers.\n",
      "[Parallel(n_jobs=1)]: Done   1 out of   1 | elapsed:    0.0s remaining:    0.0s\n",
      "[Parallel(n_jobs=1)]: Done   2 out of   2 | elapsed:    0.0s finished\n",
      "\n",
      "[2020-04-26 21:53:42] Features: 7/7 -- score: 0.5824205910826513"
     ]
    }
   ],
   "source": [
    "#Feature Selection (Sequential Forward Selection) - Wrapper Method\n",
    "\n",
    "LR=LinearRegression()\n",
    "sfs1=sfs(LR,k_features=7,forward=True,floating=False,scoring='r2',verbose=2,cv=5)\n",
    "sfs1=sfs1.fit(data,Y)"
   ]
  },
  {
   "cell_type": "code",
   "execution_count": 121,
   "metadata": {},
   "outputs": [
    {
     "name": "stdout",
     "output_type": "stream",
     "text": [
      "[1, 2, 3, 4, 5, 6, 7]\n"
     ]
    }
   ],
   "source": [
    "#Selecting top 7 features\n",
    "feat_cols=list(sfs1.k_feature_idx_)\n",
    "print(feat_cols) #Selected Features - Zipcode,No_of_Bedrooms,No_of_Bathrooms,Sq_ft,HouseType,Basementtype,Lot_Size(Acres)\n",
    "\n",
    "#Feature with less score - Year_Built"
   ]
  },
  {
   "cell_type": "code",
   "execution_count": 122,
   "metadata": {},
   "outputs": [
    {
     "data": {
      "text/plain": [
       "Index(['Zipcode', 'No_of_Bedrooms', 'No_of_Bathrooms', 'Sq_ft', 'HouseType',\n",
       "       'Basementtype', 'Lot_Size(Acres)', 'Year_Built'],\n",
       "      dtype='object')"
      ]
     },
     "execution_count": 122,
     "metadata": {},
     "output_type": "execute_result"
    }
   ],
   "source": [
    "data.columns"
   ]
  },
  {
   "cell_type": "code",
   "execution_count": 123,
   "metadata": {},
   "outputs": [
    {
     "name": "stdout",
     "output_type": "stream",
     "text": [
      "\n",
      "Data Quality Report for Continuous features\n",
      "Total records: 387\n"
     ]
    },
    {
     "data": {
      "text/html": [
       "<div>\n",
       "<style scoped>\n",
       "    .dataframe tbody tr th:only-of-type {\n",
       "        vertical-align: middle;\n",
       "    }\n",
       "\n",
       "    .dataframe tbody tr th {\n",
       "        vertical-align: top;\n",
       "    }\n",
       "\n",
       "    .dataframe thead th {\n",
       "        text-align: right;\n",
       "    }\n",
       "</style>\n",
       "<table border=\"1\" class=\"dataframe\">\n",
       "  <thead>\n",
       "    <tr style=\"text-align: right;\">\n",
       "      <th></th>\n",
       "      <th>Data Type</th>\n",
       "      <th>Count</th>\n",
       "      <th>Missing</th>\n",
       "      <th>Cardinality</th>\n",
       "      <th>Minimum</th>\n",
       "      <th>1st Qrt.</th>\n",
       "      <th>Mean</th>\n",
       "      <th>Median</th>\n",
       "      <th>3rd Qrt.</th>\n",
       "      <th>Maximum</th>\n",
       "      <th>Standard deviation</th>\n",
       "    </tr>\n",
       "  </thead>\n",
       "  <tbody>\n",
       "    <tr>\n",
       "      <th>Price</th>\n",
       "      <td>float64</td>\n",
       "      <td>386</td>\n",
       "      <td>1</td>\n",
       "      <td>274</td>\n",
       "      <td>63200.00</td>\n",
       "      <td>295326.25</td>\n",
       "      <td>596711.126943</td>\n",
       "      <td>359450.00</td>\n",
       "      <td>449437.50</td>\n",
       "      <td>34400000.0</td>\n",
       "      <td>2.547623e+06</td>\n",
       "    </tr>\n",
       "    <tr>\n",
       "      <th>No.of Bedrooms</th>\n",
       "      <td>int64</td>\n",
       "      <td>387</td>\n",
       "      <td>0</td>\n",
       "      <td>7</td>\n",
       "      <td>0.00</td>\n",
       "      <td>3.00</td>\n",
       "      <td>3.912145</td>\n",
       "      <td>4.00</td>\n",
       "      <td>5.00</td>\n",
       "      <td>7.0</td>\n",
       "      <td>1.336042e+00</td>\n",
       "    </tr>\n",
       "    <tr>\n",
       "      <th>No.of Bathrooms</th>\n",
       "      <td>int64</td>\n",
       "      <td>387</td>\n",
       "      <td>0</td>\n",
       "      <td>8</td>\n",
       "      <td>0.00</td>\n",
       "      <td>3.00</td>\n",
       "      <td>3.299742</td>\n",
       "      <td>3.00</td>\n",
       "      <td>4.00</td>\n",
       "      <td>7.0</td>\n",
       "      <td>1.254247e+00</td>\n",
       "    </tr>\n",
       "    <tr>\n",
       "      <th>Sq.ft</th>\n",
       "      <td>float64</td>\n",
       "      <td>366</td>\n",
       "      <td>21</td>\n",
       "      <td>341</td>\n",
       "      <td>730.00</td>\n",
       "      <td>2258.25</td>\n",
       "      <td>3050.366120</td>\n",
       "      <td>2937.00</td>\n",
       "      <td>3639.50</td>\n",
       "      <td>9201.0</td>\n",
       "      <td>1.175749e+03</td>\n",
       "    </tr>\n",
       "    <tr>\n",
       "      <th>Lot Size (Acres)</th>\n",
       "      <td>float64</td>\n",
       "      <td>362</td>\n",
       "      <td>25</td>\n",
       "      <td>99</td>\n",
       "      <td>0.02</td>\n",
       "      <td>0.21</td>\n",
       "      <td>16.142265</td>\n",
       "      <td>0.31</td>\n",
       "      <td>0.58</td>\n",
       "      <td>5663.0</td>\n",
       "      <td>2.976155e+02</td>\n",
       "    </tr>\n",
       "  </tbody>\n",
       "</table>\n",
       "</div>"
      ],
      "text/plain": [
       "                 Data Type  Count  Missing Cardinality   Minimum   1st Qrt.  \\\n",
       "Price              float64    386        1         274  63200.00  295326.25   \n",
       "No.of Bedrooms       int64    387        0           7      0.00       3.00   \n",
       "No.of Bathrooms      int64    387        0           8      0.00       3.00   \n",
       "Sq.ft              float64    366       21         341    730.00    2258.25   \n",
       "Lot Size (Acres)   float64    362       25          99      0.02       0.21   \n",
       "\n",
       "                           Mean     Median   3rd Qrt.     Maximum  \\\n",
       "Price             596711.126943  359450.00  449437.50  34400000.0   \n",
       "No.of Bedrooms         3.912145       4.00       5.00         7.0   \n",
       "No.of Bathrooms        3.299742       3.00       4.00         7.0   \n",
       "Sq.ft               3050.366120    2937.00    3639.50      9201.0   \n",
       "Lot Size (Acres)      16.142265       0.31       0.58      5663.0   \n",
       "\n",
       "                  Standard deviation  \n",
       "Price                   2.547623e+06  \n",
       "No.of Bedrooms          1.336042e+00  \n",
       "No.of Bathrooms         1.254247e+00  \n",
       "Sq.ft                   1.175749e+03  \n",
       "Lot Size (Acres)        2.976155e+02  "
      ]
     },
     "execution_count": 123,
     "metadata": {},
     "output_type": "execute_result"
    }
   ],
   "source": [
    "print(\"\\nData Quality Report for Continuous features\")\n",
    "print(\"Total records: {}\".format(len(house_df[continuous].index)))\n",
    "data_quality_report"
   ]
  },
  {
   "cell_type": "code",
   "execution_count": 124,
   "metadata": {},
   "outputs": [
    {
     "name": "stdout",
     "output_type": "stream",
     "text": [
      "\n",
      "Data Quality Report for Categorical features\n",
      "Total records: 387\n"
     ]
    },
    {
     "data": {
      "text/html": [
       "<div>\n",
       "<style scoped>\n",
       "    .dataframe tbody tr th:only-of-type {\n",
       "        vertical-align: middle;\n",
       "    }\n",
       "\n",
       "    .dataframe tbody tr th {\n",
       "        vertical-align: top;\n",
       "    }\n",
       "\n",
       "    .dataframe thead th {\n",
       "        text-align: right;\n",
       "    }\n",
       "</style>\n",
       "<table border=\"1\" class=\"dataframe\">\n",
       "  <thead>\n",
       "    <tr style=\"text-align: right;\">\n",
       "      <th></th>\n",
       "      <th>Data Type</th>\n",
       "      <th>Count</th>\n",
       "      <th>Missing</th>\n",
       "      <th>Cardinality</th>\n",
       "      <th>Mode</th>\n",
       "      <th>Mode Frequency</th>\n",
       "      <th>Mode Percentage</th>\n",
       "    </tr>\n",
       "  </thead>\n",
       "  <tbody>\n",
       "    <tr>\n",
       "      <th>Zip code</th>\n",
       "      <td>int64</td>\n",
       "      <td>387</td>\n",
       "      <td>0</td>\n",
       "      <td>4</td>\n",
       "      <td>30040</td>\n",
       "      <td>186</td>\n",
       "      <td>48.06</td>\n",
       "    </tr>\n",
       "    <tr>\n",
       "      <th>HouseType</th>\n",
       "      <td>object</td>\n",
       "      <td>331</td>\n",
       "      <td>56</td>\n",
       "      <td>4</td>\n",
       "      <td>Basement</td>\n",
       "      <td>160</td>\n",
       "      <td>41.34</td>\n",
       "    </tr>\n",
       "    <tr>\n",
       "      <th>Basementtype</th>\n",
       "      <td>object</td>\n",
       "      <td>309</td>\n",
       "      <td>78</td>\n",
       "      <td>4</td>\n",
       "      <td>Slab</td>\n",
       "      <td>149</td>\n",
       "      <td>38.50</td>\n",
       "    </tr>\n",
       "    <tr>\n",
       "      <th>Year Built</th>\n",
       "      <td>int64</td>\n",
       "      <td>387</td>\n",
       "      <td>0</td>\n",
       "      <td>49</td>\n",
       "      <td>2006</td>\n",
       "      <td>29</td>\n",
       "      <td>7.49</td>\n",
       "    </tr>\n",
       "  </tbody>\n",
       "</table>\n",
       "</div>"
      ],
      "text/plain": [
       "             Data Type  Count  Missing Cardinality      Mode Mode Frequency  \\\n",
       "Zip code         int64    387        0           4     30040            186   \n",
       "HouseType       object    331       56           4  Basement            160   \n",
       "Basementtype    object    309       78           4      Slab            149   \n",
       "Year Built       int64    387        0          49      2006             29   \n",
       "\n",
       "              Mode Percentage  \n",
       "Zip code                48.06  \n",
       "HouseType               41.34  \n",
       "Basementtype            38.50  \n",
       "Year Built               7.49  "
      ]
     },
     "execution_count": 124,
     "metadata": {},
     "output_type": "execute_result"
    }
   ],
   "source": [
    "print(\"\\nData Quality Report for Categorical features\")\n",
    "print(\"Total records: {}\".format(len(house_df[categorical].index)))\n",
    "data_quality_report_categorical"
   ]
  },
  {
   "cell_type": "code",
   "execution_count": 125,
   "metadata": {},
   "outputs": [
    {
     "name": "stdout",
     "output_type": "stream",
     "text": [
      "\n",
      "Data Quality Plan for Missing Values\n",
      "Total records: 387\n"
     ]
    },
    {
     "data": {
      "text/html": [
       "<div>\n",
       "<style scoped>\n",
       "    .dataframe tbody tr th:only-of-type {\n",
       "        vertical-align: middle;\n",
       "    }\n",
       "\n",
       "    .dataframe tbody tr th {\n",
       "        vertical-align: top;\n",
       "    }\n",
       "\n",
       "    .dataframe thead th {\n",
       "        text-align: right;\n",
       "    }\n",
       "</style>\n",
       "<table border=\"1\" class=\"dataframe\">\n",
       "  <thead>\n",
       "    <tr style=\"text-align: right;\">\n",
       "      <th></th>\n",
       "      <th>Data Quality Issue (Missing Values %)</th>\n",
       "      <th>Potential Handling Strategies</th>\n",
       "    </tr>\n",
       "  </thead>\n",
       "  <tbody>\n",
       "    <tr>\n",
       "      <th>Price</th>\n",
       "      <td>0.26</td>\n",
       "      <td>Knn Imputation</td>\n",
       "    </tr>\n",
       "    <tr>\n",
       "      <th>Sq.ft</th>\n",
       "      <td>5.74</td>\n",
       "      <td>Knn Imputation</td>\n",
       "    </tr>\n",
       "    <tr>\n",
       "      <th>HouseType</th>\n",
       "      <td>16.92</td>\n",
       "      <td>Knn Imputation</td>\n",
       "    </tr>\n",
       "    <tr>\n",
       "      <th>Basementtype</th>\n",
       "      <td>25.24</td>\n",
       "      <td>Knn Imputation</td>\n",
       "    </tr>\n",
       "    <tr>\n",
       "      <th>Lot Size (Acres)</th>\n",
       "      <td>6.91</td>\n",
       "      <td>Knn Imputation</td>\n",
       "    </tr>\n",
       "  </tbody>\n",
       "</table>\n",
       "</div>"
      ],
      "text/plain": [
       "                  Data Quality Issue (Missing Values %)  \\\n",
       "Price                                              0.26   \n",
       "Sq.ft                                              5.74   \n",
       "HouseType                                         16.92   \n",
       "Basementtype                                      25.24   \n",
       "Lot Size (Acres)                                   6.91   \n",
       "\n",
       "                 Potential Handling Strategies  \n",
       "Price                           Knn Imputation  \n",
       "Sq.ft                           Knn Imputation  \n",
       "HouseType                       Knn Imputation  \n",
       "Basementtype                    Knn Imputation  \n",
       "Lot Size (Acres)                Knn Imputation  "
      ]
     },
     "execution_count": 125,
     "metadata": {},
     "output_type": "execute_result"
    }
   ],
   "source": [
    "#Data Quality Plan for Missing Values\n",
    "\n",
    "print(\"\\nData Quality Plan for Missing Values\")\n",
    "print(\"Total records: {}\".format(len(house_df.index)))\n",
    "dataqualitymiss"
   ]
  },
  {
   "cell_type": "code",
   "execution_count": 126,
   "metadata": {},
   "outputs": [
    {
     "name": "stdout",
     "output_type": "stream",
     "text": [
      "\n",
      "Data Quality Plan for Outliers\n",
      "Total records: 387\n"
     ]
    },
    {
     "data": {
      "text/html": [
       "<div>\n",
       "<style scoped>\n",
       "    .dataframe tbody tr th:only-of-type {\n",
       "        vertical-align: middle;\n",
       "    }\n",
       "\n",
       "    .dataframe tbody tr th {\n",
       "        vertical-align: top;\n",
       "    }\n",
       "\n",
       "    .dataframe thead th {\n",
       "        text-align: right;\n",
       "    }\n",
       "</style>\n",
       "<table border=\"1\" class=\"dataframe\">\n",
       "  <thead>\n",
       "    <tr style=\"text-align: right;\">\n",
       "      <th></th>\n",
       "      <th>Features</th>\n",
       "      <th>Outliers %</th>\n",
       "      <th>Potential Handling Strategies</th>\n",
       "    </tr>\n",
       "  </thead>\n",
       "  <tbody>\n",
       "    <tr>\n",
       "      <th>0</th>\n",
       "      <td>Price</td>\n",
       "      <td>3.100775</td>\n",
       "      <td>IQR Method</td>\n",
       "    </tr>\n",
       "    <tr>\n",
       "      <th>1</th>\n",
       "      <td>No.of Bathrooms</td>\n",
       "      <td>9.819121</td>\n",
       "      <td>IQR Method</td>\n",
       "    </tr>\n",
       "    <tr>\n",
       "      <th>2</th>\n",
       "      <td>Sq.ft</td>\n",
       "      <td>3.100775</td>\n",
       "      <td>IQR Method</td>\n",
       "    </tr>\n",
       "    <tr>\n",
       "      <th>3</th>\n",
       "      <td>Lot Size (Acres)</td>\n",
       "      <td>5.167959</td>\n",
       "      <td>IQR Method</td>\n",
       "    </tr>\n",
       "    <tr>\n",
       "      <th>4</th>\n",
       "      <td>Year Built</td>\n",
       "      <td>7.751938</td>\n",
       "      <td>IQR Method</td>\n",
       "    </tr>\n",
       "  </tbody>\n",
       "</table>\n",
       "</div>"
      ],
      "text/plain": [
       "           Features  Outliers % Potential Handling Strategies\n",
       "0             Price    3.100775                    IQR Method\n",
       "1   No.of Bathrooms    9.819121                    IQR Method\n",
       "2             Sq.ft    3.100775                    IQR Method\n",
       "3  Lot Size (Acres)    5.167959                    IQR Method\n",
       "4        Year Built    7.751938                    IQR Method"
      ]
     },
     "execution_count": 126,
     "metadata": {},
     "output_type": "execute_result"
    }
   ],
   "source": [
    "#Data Quality Plan for Outliers\n",
    "\n",
    "print(\"\\nData Quality Plan for Outliers\")\n",
    "print(\"Total records: {}\".format(len(house_df.index)))\n",
    "dataqualityout"
   ]
  }
 ],
 "metadata": {
  "kernelspec": {
   "display_name": "Python 3",
   "language": "python",
   "name": "python3"
  },
  "language_info": {
   "codemirror_mode": {
    "name": "ipython",
    "version": 3
   },
   "file_extension": ".py",
   "mimetype": "text/x-python",
   "name": "python",
   "nbconvert_exporter": "python",
   "pygments_lexer": "ipython3",
   "version": "3.7.3"
  }
 },
 "nbformat": 4,
 "nbformat_minor": 2
}
